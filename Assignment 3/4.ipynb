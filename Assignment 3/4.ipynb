{
 "cells": [
  {
   "cell_type": "markdown",
   "metadata": {},
   "source": [
    "# Part (a)"
   ]
  },
  {
   "cell_type": "markdown",
   "metadata": {},
   "source": [
    "### Imports for code"
   ]
  },
  {
   "cell_type": "code",
   "execution_count": 1,
   "metadata": {},
   "outputs": [],
   "source": [
    "import math\n",
    "import time\n",
    "import random\n",
    "import numpy as np\n",
    "import matplotlib.pyplot as plt\n",
    "from random import randrange\n",
    "\n",
    "# from sklearnex import patch_sklearn\n",
    "# patch_sklearn()\n",
    "from sklearn.model_selection import train_test_split\n",
    "from sklearn.metrics import accuracy_score\n",
    "from sklearn.ensemble import RandomForestClassifier"
   ]
  },
  {
   "cell_type": "markdown",
   "metadata": {},
   "source": [
    "### Decision tree based on entropy. Code taken from assignemnt 1"
   ]
  },
  {
   "cell_type": "code",
   "execution_count": 2,
   "metadata": {},
   "outputs": [],
   "source": [
    "class DecisionTree:\n",
    "    def __init__(self):\n",
    "        self.tree = {}\n",
    "        self.max_depth = 5\n",
    "\n",
    "    def learn(self, training_set, target):\n",
    "        used_feature = []\n",
    "        self.tree = self.build_tree(training_set, target, used_feature, depth=0)\n",
    "\n",
    "    def build_tree(self, training_set, target, used_feature, depth):\n",
    "        if len(set(target)) == 1:\n",
    "            return target[0]\n",
    "\n",
    "        if (\n",
    "            (training_set == training_set[0]).all()\n",
    "            or len(used_feature) == len(training_set[0])\n",
    "            or depth > self.max_depth\n",
    "        ):\n",
    "            return self.majority_class(target)\n",
    "\n",
    "        feature_to_split, value_to_split = self.split_feature(\n",
    "            training_set, target, used_feature\n",
    "        )\n",
    "\n",
    "        left_x, right_x, left_y, right_y = self.split(\n",
    "            training_set, target, feature_to_split, value_to_split\n",
    "        )\n",
    "\n",
    "        tree = {}\n",
    "        tree[str(feature_to_split)] = [\n",
    "            value_to_split,\n",
    "            self.build_tree(left_x, left_y, used_feature, depth + 1),\n",
    "            self.build_tree(right_x, right_y, used_feature, depth + 1),\n",
    "        ]\n",
    "\n",
    "        return tree\n",
    "\n",
    "    def majority_class(self, target):\n",
    "        counts = np.bincount(target)\n",
    "        if counts[0] > counts[1]:\n",
    "            return 0\n",
    "        else:\n",
    "            return 1\n",
    "\n",
    "    def split_feature(self, training_set, target, used_feature):\n",
    "        info_gain = -1\n",
    "        feature = -1\n",
    "        value = -1\n",
    "\n",
    "        for idx in range(len(training_set[0])):\n",
    "            if idx in used_feature:\n",
    "                continue\n",
    "\n",
    "            split_points = self.get_threshold(training_set[:, idx], target)\n",
    "            for point in split_points:\n",
    "                left, right = self.divide(training_set[:, idx], target, point)\n",
    "                divided_target = []\n",
    "                divided_target.append(left)\n",
    "                divided_target.append(right)\n",
    "                gain = self.information_gain(target, divided_target)\n",
    "                if gain > info_gain:\n",
    "                    feature = idx\n",
    "                    value = point\n",
    "                    info_gain = gain\n",
    "\n",
    "        used_feature.append(feature)\n",
    "        return feature, value\n",
    "\n",
    "    def get_threshold(self, training_set, target):\n",
    "        thresholds = []\n",
    "        for i in range(len(training_set) - 1):\n",
    "            if target[i] != target[i + 1]:\n",
    "                thresholds.append((training_set[i] + training_set[i + 1]) / 2)\n",
    "        thresholds.sort()\n",
    "        return thresholds\n",
    "\n",
    "    def divide(self, training_set, target, point):\n",
    "        left = []\n",
    "        right = []\n",
    "        for i in range(len(training_set)):\n",
    "            if training_set[i] < point:\n",
    "                left.append(target[i])\n",
    "            else:\n",
    "                right.append(target[i])\n",
    "        return left, right\n",
    "\n",
    "    def information_gain(self, target, divided_target):\n",
    "        parent_entropy = self.entropy(target)\n",
    "        current_entropy = (\n",
    "            float(len(divided_target[0]))\n",
    "            / len(target)\n",
    "            * self.entropy(divided_target[0])\n",
    "        ) + (\n",
    "            float(len(divided_target[1]))\n",
    "            / len(target)\n",
    "            * self.entropy(divided_target[1])\n",
    "        )\n",
    "        return parent_entropy - current_entropy\n",
    "\n",
    "    def entropy(self, y):\n",
    "        counts = np.bincount(y)\n",
    "        probabilities = counts / len(y)\n",
    "        entropy = 0\n",
    "        for prob in probabilities:\n",
    "            if prob > 0:\n",
    "                entropy += prob * math.log(prob, 2)\n",
    "        return -entropy\n",
    "\n",
    "    def split(self, training_set, target, feature_to_split, value_to_split):\n",
    "        feature = training_set[:, feature_to_split]\n",
    "        left_x = []\n",
    "        right_x = []\n",
    "        left_y = []\n",
    "        right_y = []\n",
    "\n",
    "        for idx in range(len(feature)):\n",
    "            if feature[idx] < value_to_split:\n",
    "                left_x.append(training_set[idx])\n",
    "                left_y.append(target[idx])\n",
    "            else:\n",
    "                right_x.append(training_set[idx])\n",
    "                right_y.append(target[idx])\n",
    "        left_x = np.array(left_x, dtype=float)\n",
    "        right_x = np.array(right_x, dtype=float)\n",
    "        left_y = np.array(left_y, dtype=int)\n",
    "        right_y = np.array(right_y, dtype=int)\n",
    "\n",
    "        return left_x, right_x, left_y, right_y\n",
    "\n",
    "    def classify(self, test_instance):\n",
    "        result = self.tree\n",
    "        while type(result) == dict:\n",
    "            feature = list(result.keys())[0]\n",
    "            if float(test_instance[int(feature)]) < result[feature][0]:\n",
    "                result = result[feature][1]\n",
    "            else:\n",
    "                result = result[feature][2]\n",
    "        return int(result)"
   ]
  },
  {
   "cell_type": "markdown",
   "metadata": {},
   "source": [
    "### Code for Random Forest."
   ]
  },
  {
   "cell_type": "code",
   "execution_count": 3,
   "metadata": {},
   "outputs": [],
   "source": [
    "class RandomForest:\n",
    "    def __init__(self):\n",
    "        self.decision_trees = []\n",
    "\n",
    "    def subsample(self, x_data, y_data, size):\n",
    "        sample_x = []\n",
    "        sample_y = []\n",
    "        while len(sample_x) < round(len(x_data) * size):\n",
    "            idx = randrange(len(x_data))\n",
    "            sample_x.append(x_data[idx])\n",
    "            sample_y.append(y_data[idx])\n",
    "        return np.array(x_data), np.array(y_data).astype(int)\n",
    "\n",
    "    def predict(self, decision_trees, instance):\n",
    "        predictions = []\n",
    "        for tree in decision_trees:\n",
    "            predictions.append(tree.classify(instance))\n",
    "        return max(set(predictions), key=predictions.count)\n",
    "\n",
    "    def build(self, x_train, y_train, sample_size, n_trees):\n",
    "        for i in range(n_trees):\n",
    "            x_sampled_data, y_sampled_data = self.subsample(x_train, y_train, sample_size)\n",
    "            tree = DecisionTree()\n",
    "            tree.learn(x_sampled_data, y_sampled_data)\n",
    "            self.decision_trees.append(tree)\n",
    "\n",
    "    def classify(self, x_test):\n",
    "        predictions = [self.predict(self.decision_trees, row) for row in x_test]\n",
    "        return predictions"
   ]
  },
  {
   "cell_type": "markdown",
   "metadata": {},
   "source": [
    "### Reading data from file"
   ]
  },
  {
   "cell_type": "code",
   "execution_count": 4,
   "metadata": {},
   "outputs": [],
   "source": [
    "data = np.loadtxt(\"spam.data\")\n",
    "y = data[:, -1].astype(int)\n",
    "x = data[:, :-1]\n",
    "x_train, x_test, y_train, y_test = train_test_split(x, y, test_size=0.3)"
   ]
  },
  {
   "cell_type": "markdown",
   "metadata": {},
   "source": [
    "### Executing and timing our implementation of Random Forest Classifier"
   ]
  },
  {
   "cell_type": "code",
   "execution_count": 5,
   "metadata": {},
   "outputs": [],
   "source": [
    "t0 = time.time()\n",
    "\n",
    "forest = RandomForest()\n",
    "forest.build(x_train, y_train, 0.3, 5)\n",
    "\n",
    "preds_our_model = forest.classify(x_test)\n",
    "\n",
    "t1 = time.time()\n",
    "time_our_model = t1-t0"
   ]
  },
  {
   "cell_type": "markdown",
   "metadata": {},
   "source": [
    "### Executing and implementing Sklearn's implementation of Random Forest Classifier"
   ]
  },
  {
   "cell_type": "code",
   "execution_count": 6,
   "metadata": {},
   "outputs": [],
   "source": [
    "t0 = time.time()\n",
    "\n",
    "model = RandomForestClassifier(n_estimators=5, criterion=\"entropy\", max_depth=5, bootstrap=True, max_samples = 0.3)\n",
    "model.fit(x_train, y_train)\n",
    "\n",
    "preds_sklearn = model.predict(x_test)\n",
    "\n",
    "t1 = time.time()\n",
    "time_sklearn = t1-t0"
   ]
  },
  {
   "cell_type": "markdown",
   "metadata": {},
   "source": [
    "### Comparision of results from our classifier and Sklearn's implementation"
   ]
  },
  {
   "cell_type": "code",
   "execution_count": 7,
   "metadata": {},
   "outputs": [
    {
     "name": "stdout",
     "output_type": "stream",
     "text": [
      "Our model took 679.194314 time and gave an accuracy of 0.883418\n",
      "\n",
      "Sklearn model took 0.019740 time and gave an accuracy of 0.910210\n"
     ]
    }
   ],
   "source": [
    "print(\"Our model took %f time and gave an accuracy of %f\" % (time_our_model, accuracy_score(y_test, preds_our_model)))\n",
    "print(\"\\nSklearn model took %f time and gave an accuracy of %f\" % (time_sklearn, accuracy_score(y_test, preds_sklearn)))"
   ]
  },
  {
   "cell_type": "markdown",
   "metadata": {},
   "source": [
    "# Part (b)"
   ]
  },
  {
   "cell_type": "markdown",
   "metadata": {},
   "source": [
    "### Finding values of accuracy for different value of m"
   ]
  },
  {
   "cell_type": "code",
   "execution_count": 8,
   "metadata": {},
   "outputs": [],
   "source": [
    "accuracies = []\n",
    "for i in range(1, len(x_train[0])):\n",
    "    model = RandomForestClassifier(n_estimators=5, criterion=\"entropy\", max_depth=5, bootstrap=True, max_samples = 0.3, max_features = i)\n",
    "    model.fit(x_train, y_train)\n",
    "    accuracies.append(accuracy_score(y_test, model.predict(x_test)))"
   ]
  },
  {
   "cell_type": "markdown",
   "metadata": {},
   "source": [
    "### Plotting accuracies and value of m"
   ]
  },
  {
   "cell_type": "code",
   "execution_count": 9,
   "metadata": {},
   "outputs": [
    {
     "data": {
      "image/png": "[encoded data removed]",
      "text/plain": [
       "<Figure size 1080x504 with 1 Axes>"
      ]
     },
     "metadata": {},
     "output_type": "display_data"
    }
   ],
   "source": [
    "y = accuracies\n",
    "x = [i for i in range(len(y))]\n",
    "plt.figure(figsize=(15,7))\n",
    "plt.plot(x,y)\n",
    "plt.xlabel(\"Value of m\")\n",
    "plt.ylabel(\"Accuracy Score\")\n",
    "plt.show()"
   ]
  },
  {
   "cell_type": "markdown",
   "metadata": {},
   "source": [
    "### The graph above shows the senstivity of Random Forest with various value of m."
   ]
  },
  {
   "cell_type": "markdown",
   "metadata": {},
   "source": [
    "# Part (c)"
   ]
  },
  {
   "cell_type": "code",
   "execution_count": 10,
   "metadata": {},
   "outputs": [],
   "source": [
    "class DecisionTree:\n",
    "    def __init__(self):\n",
    "        self.tree = {}\n",
    "        self.max_depth = 5\n",
    "\n",
    "    def learn(self, training_set, target, max_features):\n",
    "        total_features = len(training_set[0])\n",
    "        not_included = random.sample(range(1, total_features), max_features)\n",
    "        used_feature = [int(i) for i in range(total_features) if i not in not_included]\n",
    "        \n",
    "        self.tree = self.build_tree(training_set, target, used_feature, depth=0)\n",
    "\n",
    "    def build_tree(self, training_set, target, used_feature, depth):\n",
    "        if len(training_set) == 0:\n",
    "            return 0\n",
    "            \n",
    "        if len(set(target)) == 1:\n",
    "            return target[0]\n",
    "\n",
    "        if (\n",
    "            (training_set == training_set[0]).all()\n",
    "            or len(used_feature) == len(training_set[0])\n",
    "            or depth > self.max_depth\n",
    "        ):\n",
    "            return self.majority_class(target)\n",
    "\n",
    "        feature_to_split, value_to_split = self.split_feature(\n",
    "            training_set, target, used_feature\n",
    "        )\n",
    "\n",
    "        left_x, right_x, left_y, right_y = self.split(\n",
    "            training_set, target, feature_to_split, value_to_split\n",
    "        )\n",
    "\n",
    "        tree = {}\n",
    "        tree[str(feature_to_split)] = [\n",
    "            value_to_split,\n",
    "            self.build_tree(left_x, left_y, used_feature, depth + 1),\n",
    "            self.build_tree(right_x, right_y, used_feature, depth + 1),\n",
    "        ]\n",
    "\n",
    "        return tree\n",
    "\n",
    "    def majority_class(self, target):\n",
    "        counts = np.bincount(target)\n",
    "        if counts[0] > counts[1]:\n",
    "            return 0\n",
    "        else:\n",
    "            return 1\n",
    "\n",
    "    def split_feature(self, training_set, target, used_feature):\n",
    "        info_gain = -1\n",
    "        feature = -1\n",
    "        value = -1\n",
    "\n",
    "        for idx in range(len(training_set[0])):\n",
    "            if idx in used_feature:\n",
    "                continue\n",
    "\n",
    "            split_points = self.get_threshold(training_set[:, idx], target)\n",
    "            for point in split_points:\n",
    "                left, right = self.divide(training_set[:, idx], target, point)\n",
    "                divided_target = []\n",
    "                divided_target.append(left)\n",
    "                divided_target.append(right)\n",
    "                gain = self.information_gain(target, divided_target)\n",
    "                if gain > info_gain:\n",
    "                    feature = idx\n",
    "                    value = point\n",
    "                    info_gain = gain\n",
    "\n",
    "        used_feature.append(feature)\n",
    "        return feature, value\n",
    "\n",
    "    def get_threshold(self, training_set, target):\n",
    "        thresholds = []\n",
    "        for i in range(len(training_set) - 1):\n",
    "            if target[i] != target[i + 1]:\n",
    "                thresholds.append((training_set[i] + training_set[i + 1]) / 2)\n",
    "        thresholds.sort()\n",
    "        return thresholds\n",
    "\n",
    "    def divide(self, training_set, target, point):\n",
    "        left = []\n",
    "        right = []\n",
    "        for i in range(len(training_set)):\n",
    "            if training_set[i] < point:\n",
    "                left.append(target[i])\n",
    "            else:\n",
    "                right.append(target[i])\n",
    "        return left, right\n",
    "\n",
    "    def information_gain(self, target, divided_target):\n",
    "        parent_entropy = self.entropy(target)\n",
    "        current_entropy = (\n",
    "            float(len(divided_target[0]))\n",
    "            / len(target)\n",
    "            * self.entropy(divided_target[0])\n",
    "        ) + (\n",
    "            float(len(divided_target[1]))\n",
    "            / len(target)\n",
    "            * self.entropy(divided_target[1])\n",
    "        )\n",
    "        return parent_entropy - current_entropy\n",
    "\n",
    "    def entropy(self, y):\n",
    "        counts = np.bincount(y)\n",
    "        probabilities = counts / len(y)\n",
    "        entropy = 0\n",
    "        for prob in probabilities:\n",
    "            if prob > 0:\n",
    "                entropy += prob * math.log(prob, 2)\n",
    "        return -entropy\n",
    "\n",
    "    def split(self, training_set, target, feature_to_split, value_to_split):\n",
    "        feature = training_set[:, feature_to_split]\n",
    "        left_x = []\n",
    "        right_x = []\n",
    "        left_y = []\n",
    "        right_y = []\n",
    "\n",
    "        for idx in range(len(feature)):\n",
    "            if feature[idx] < value_to_split:\n",
    "                left_x.append(training_set[idx])\n",
    "                left_y.append(target[idx])\n",
    "            else:\n",
    "                right_x.append(training_set[idx])\n",
    "                right_y.append(target[idx])\n",
    "        left_x = np.array(left_x, dtype=float)\n",
    "        right_x = np.array(right_x, dtype=float)\n",
    "        left_y = np.array(left_y, dtype=int)\n",
    "        right_y = np.array(right_y, dtype=int)\n",
    "\n",
    "        return left_x, right_x, left_y, right_y\n",
    "\n",
    "    def classify(self, test_instance):\n",
    "        result = self.tree\n",
    "        while type(result) == dict:\n",
    "            feature = list(result.keys())[0]\n",
    "            if float(test_instance[int(feature)]) < result[feature][0]:\n",
    "                result = result[feature][1]\n",
    "            else:\n",
    "                result = result[feature][2]\n",
    "        return int(result)"
   ]
  },
  {
   "cell_type": "code",
   "execution_count": 11,
   "metadata": {},
   "outputs": [],
   "source": [
    "class RandomForest:\n",
    "    def __init__(self):\n",
    "        self.decision_trees = []\n",
    "\n",
    "    def oob_subsample(self, x_data, y_data, size):\n",
    "        sampled_idx = random.sample(range(1, len(x_data)), round(len(x_data) * size))\n",
    "        sample_x = []\n",
    "        sample_y = []\n",
    "        oob_x = []\n",
    "        oob_y = []\n",
    "        \n",
    "        for idx in range(len(x_data)):\n",
    "            if idx in sampled_idx:\n",
    "                sample_x.append(x_data[idx])\n",
    "                sample_y.append(y_data[idx])\n",
    "            else:\n",
    "                oob_x.append(x_data[idx])\n",
    "                oob_y.append(y_data[idx])    \n",
    "        return np.array(x_data), np.array(y_data).astype(int), np.array(oob_x), np.array(oob_y).astype(int)\n",
    "\n",
    "    def predict(self, decision_trees, instance):\n",
    "        predictions = []\n",
    "        for tree in decision_trees:\n",
    "            predictions.append(tree.classify(instance))\n",
    "        return max(set(predictions), key=predictions.count)\n",
    "\n",
    "    def build(self, x_train, y_train, sample_size, n_trees, max_features):\n",
    "        oob = []\n",
    "        for i in range(n_trees):\n",
    "            x_sampled_data, y_sampled_data, x_oob, y_oob = self.oob_subsample(x_train, y_train, sample_size)\n",
    "            tree = DecisionTree()\n",
    "            tree.learn(x_sampled_data, y_sampled_data, max_features)\n",
    "            self.decision_trees.append(tree)\n",
    "            preds = [tree.classify(row) for row in x_oob]\n",
    "            oob_accuracy = accuracy_score(y_oob, preds)\n",
    "            oob.append(oob_accuracy)\n",
    "        return np.mean(oob)\n",
    "\n",
    "    def classify(self, x_test):\n",
    "        predictions = [self.predict(self.decision_trees, row) for row in x_test]\n",
    "        return predictions"
   ]
  },
  {
   "cell_type": "code",
   "execution_count": 12,
   "metadata": {},
   "outputs": [],
   "source": [
    "data = np.loadtxt(\"spam.data\")\n",
    "y = data[:, -1].astype(int)\n",
    "x = data[:, :-1]\n",
    "x_train, x_test, y_train, y_test = train_test_split(x, y, test_size=0.3)"
   ]
  },
  {
   "cell_type": "code",
   "execution_count": 13,
   "metadata": {},
   "outputs": [],
   "source": [
    "oob_errors = []\n",
    "test_errors = []\n",
    "\n",
    "for i in range(1, len(x_train[0]), 10):\n",
    "    forest = RandomForest()\n",
    "    oob_accuracy = forest.build(x_train, y_train, 0.7, 5, i)\n",
    "    classification = forest.classify(x_test)\n",
    "    test_accuracy = accuracy_score(y_test, classification)\n",
    "\n",
    "    oob_errors.append(1-oob_accuracy)\n",
    "    test_errors.append(1-test_accuracy)"
   ]
  },
  {
   "cell_type": "code",
   "execution_count": 14,
   "metadata": {},
   "outputs": [
    {
     "data": {
      "image/png": "[encoded data removed]",
      "text/plain": [
       "<Figure size 1080x504 with 1 Axes>"
      ]
     },
     "metadata": {},
     "output_type": "display_data"
    }
   ],
   "source": [
    "x = [int(i*10) for i in range(len(oob_errors))]\n",
    "\n",
    "plt.figure(figsize=(15,7))\n",
    "plt.plot(x, oob_errors, label = \"OOB Error\")\n",
    "plt.plot(x, test_errors, label = \"Test Error\")\n",
    "\n",
    "plt.xlabel(\"Number of features\" )\n",
    "plt.ylabel(\"Error\")\n",
    "plt.legend()\n",
    "plt.show()"
   ]
  },
  {
   "cell_type": "code",
   "execution_count": null,
   "metadata": {},
   "outputs": [],
   "source": []
  }
 ],
 "metadata": {
  "interpreter": {
   "hash": "a920617fd18a9e807c830217cb49b40d61f3b9d05c90d7c82a2575111cbc039d"
  },
  "kernelspec": {
   "display_name": "Python 3.9.7 64-bit ('ml': conda)",
   "name": "python3"
  },
  "language_info": {
   "codemirror_mode": {
    "name": "ipython",
    "version": 3
   },
   "file_extension": ".py",
   "mimetype": "text/x-python",
   "name": "python",
   "nbconvert_exporter": "python",
   "pygments_lexer": "ipython3",
   "version": "3.9.7"
  },
  "orig_nbformat": 4
 },
 "nbformat": 4,
 "nbformat_minor": 2
}
